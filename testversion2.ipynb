{
  "nbformat": 4,
  "nbformat_minor": 0,
  "metadata": {
    "colab": {
      "provenance": [],
      "authorship_tag": "ABX9TyPXMdtW1HThq/hyLyHL30aq"
    },
    "kernelspec": {
      "name": "python3",
      "display_name": "Python 3"
    },
    "language_info": {
      "name": "python"
    }
  },
  "cells": [
    {
      "cell_type": "markdown",
      "source": [
        "Нашей компании нужно сгруппировать клиентов для АБ-тестов. Алгоритм группировки очень простой - взять ID клиента (состоит из 5-7 цифр, например 7412567) и найти сумму всех его цифр. Получившееся число и является номером группы, в которую входит данный клиент.\n",
        "\n",
        "Для того, чтобы понять, насколько хорош такой простой алгоритм, тебе нужно написать следующие диагностические функции:\n",
        "\n",
        "Функция, которая подсчитывает число покупателей, попадающих в каждую группу, если нумерация ID сквозная и начинается с 0. На вход функция получает целое число n_customers (количество клиентов). Функция, аналогичная первой, если ID начинается с произвольного числа. На вход функция получает целые числа: n_customers (количество клиентов) и n_first_id (первый ID в последовательности). Напишите код функций на Python и оформите его в репозиторий Github. В форму ответа вставьте ссылку на репозиторий, убедитесь, что он публичный.\n",
        "\n",
        "Дополнительно к работоспособности оценим:\n",
        "\n",
        "читабельность и аккуратность кода; производительность кода.\n"
      ],
      "metadata": {
        "id": "vUm-hJ4txY71"
      }
    },
    {
      "cell_type": "code",
      "execution_count": 1,
      "metadata": {
        "id": "kZW3-RSMPQXa"
      },
      "outputs": [],
      "source": [
        "def group_sum(num):\n",
        "  group=sum(map(int,str(num)))\n",
        "  return group\n"
      ]
    },
    {
      "cell_type": "code",
      "source": [
        "def counter(n_customers):\n",
        "  q={group_sum(i):0 for i in range(n_customers)}\n",
        "  for i in range(n_customers):\n",
        "    for key ,value in q.items():\n",
        "      if group_sum(i)==int(key):\n",
        "        q[key]=value+1\n",
        "  return q"
      ],
      "metadata": {
        "id": "LyGK2sDWPYbZ"
      },
      "execution_count": 14,
      "outputs": []
    },
    {
      "cell_type": "code",
      "source": [
        "def counter2(n_customers,n_first_id):\n",
        "  q={group_sum(i):0 for i in range(n_first_id,n_customers)}\n",
        "  for i in range(n_first_id,n_customers):\n",
        "    for key ,value in q.items():\n",
        "      if group_sum(i)==int(key):\n",
        "        q[key]=value+1\n",
        "  return q"
      ],
      "metadata": {
        "id": "xdijzvF0Wlhh"
      },
      "execution_count": 19,
      "outputs": []
    }
  ]
}